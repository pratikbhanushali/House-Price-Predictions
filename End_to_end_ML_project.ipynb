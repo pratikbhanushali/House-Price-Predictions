{
  "nbformat": 4,
  "nbformat_minor": 0,
  "metadata": {
    "colab": {
      "name": "End-to-end-ML-project.ipynb",
      "provenance": [],
      "authorship_tag": "ABX9TyOW4XIamoxIueonorG/MmDx"
    },
    "kernelspec": {
      "name": "python3",
      "display_name": "Python 3"
    }
  },
  "cells": [
    {
      "cell_type": "markdown",
      "metadata": {
        "id": "5JiRtwpjdqIJ",
        "colab_type": "text"
      },
      "source": [
        "# **Data Clensing**\n",
        "\n",
        "---\n",
        "\n",
        "*   Import Dataset\n",
        "*   Replace NULL values\n",
        "*   Drop unwanted values\n",
        "\n",
        "\n"
      ]
    },
    {
      "cell_type": "code",
      "metadata": {
        "id": "W2n-L3-mdvFz",
        "colab_type": "code",
        "colab": {
          "base_uri": "https://localhost:8080/",
          "height": 204
        },
        "outputId": "bf475f7d-ff2d-4197-8ab3-13e51424e0ec"
      },
      "source": [
        "import pandas as pd\n",
        "import numpy as np\n",
        "import seaborn as sns\n",
        "import matplotlib.pyplot as plt\n",
        "%matplotlib inline\n",
        "\n",
        "# Dataset from Kaggle \n",
        "# https://www.kaggle.com/anthonypino/melbourne-housing-market?select=Melbourne_housing_FULL.csv\n",
        "\n",
        "df = pd.read_csv('/content/melb_data.csv')\n",
        "\n",
        "# Identify the NULL columns\n",
        "null_columns=df.columns[df.isnull().any()]\n",
        "df[null_columns].isnull().sum()\n",
        "\n",
        "# Fill the Null values with the Mode of the column\n",
        "for column in null_columns:\n",
        "    df[column].fillna(df[column].mode()[0], inplace=True)\n",
        "\n",
        "\n",
        "# Convert datatypes to required type\n",
        "df['Bedroom2']      = df['Bedroom2'].astype(int)\n",
        "df['Propertycount'] = df['Propertycount'].astype(int)\n",
        "df['YearBuilt']     = df['YearBuilt'].astype(int)\n",
        "df['Price']         = df['Price'].astype(int)\n",
        "df['Postcode']      = df['Postcode'].astype(int)\n",
        "\n",
        "# Extract Yearmonth from Date\n",
        "df['month'] = pd.DatetimeIndex(df['Date']).month.astype(str)\n",
        "df['yr_sold'] = pd.DatetimeIndex(df['Date']).year.astype(str)\n",
        "\n",
        "# Create a derived column\n",
        "df['yr_month_sold'] = df['yr_sold'] + df['month']\n",
        "\n",
        "# Drop unwanted columns\n",
        "df = df.drop(columns=['Address', 'Type', 'Lattitude', 'Longtitude', 'Car', 'Date', 'month', 'yr_sold'])\n",
        "\n",
        "df.head()\n"
      ],
      "execution_count": 4,
      "outputs": [
        {
          "output_type": "execute_result",
          "data": {
            "text/html": [
              "<div>\n",
              "<style scoped>\n",
              "    .dataframe tbody tr th:only-of-type {\n",
              "        vertical-align: middle;\n",
              "    }\n",
              "\n",
              "    .dataframe tbody tr th {\n",
              "        vertical-align: top;\n",
              "    }\n",
              "\n",
              "    .dataframe thead th {\n",
              "        text-align: right;\n",
              "    }\n",
              "</style>\n",
              "<table border=\"1\" class=\"dataframe\">\n",
              "  <thead>\n",
              "    <tr style=\"text-align: right;\">\n",
              "      <th></th>\n",
              "      <th>Suburb</th>\n",
              "      <th>Rooms</th>\n",
              "      <th>Price</th>\n",
              "      <th>Method</th>\n",
              "      <th>SellerG</th>\n",
              "      <th>Distance</th>\n",
              "      <th>Postcode</th>\n",
              "      <th>Bedroom2</th>\n",
              "      <th>Bathroom</th>\n",
              "      <th>Landsize</th>\n",
              "      <th>BuildingArea</th>\n",
              "      <th>YearBuilt</th>\n",
              "      <th>CouncilArea</th>\n",
              "      <th>Regionname</th>\n",
              "      <th>Propertycount</th>\n",
              "      <th>yr_month_sold</th>\n",
              "    </tr>\n",
              "  </thead>\n",
              "  <tbody>\n",
              "    <tr>\n",
              "      <th>0</th>\n",
              "      <td>Abbotsford</td>\n",
              "      <td>2</td>\n",
              "      <td>1480000</td>\n",
              "      <td>S</td>\n",
              "      <td>Biggin</td>\n",
              "      <td>2.5</td>\n",
              "      <td>3067</td>\n",
              "      <td>2</td>\n",
              "      <td>1.0</td>\n",
              "      <td>202.0</td>\n",
              "      <td>120.0</td>\n",
              "      <td>1970</td>\n",
              "      <td>Yarra</td>\n",
              "      <td>Northern Metropolitan</td>\n",
              "      <td>4019</td>\n",
              "      <td>20163</td>\n",
              "    </tr>\n",
              "    <tr>\n",
              "      <th>1</th>\n",
              "      <td>Abbotsford</td>\n",
              "      <td>2</td>\n",
              "      <td>1035000</td>\n",
              "      <td>S</td>\n",
              "      <td>Biggin</td>\n",
              "      <td>2.5</td>\n",
              "      <td>3067</td>\n",
              "      <td>2</td>\n",
              "      <td>1.0</td>\n",
              "      <td>156.0</td>\n",
              "      <td>79.0</td>\n",
              "      <td>1900</td>\n",
              "      <td>Yarra</td>\n",
              "      <td>Northern Metropolitan</td>\n",
              "      <td>4019</td>\n",
              "      <td>20164</td>\n",
              "    </tr>\n",
              "    <tr>\n",
              "      <th>2</th>\n",
              "      <td>Abbotsford</td>\n",
              "      <td>3</td>\n",
              "      <td>1465000</td>\n",
              "      <td>SP</td>\n",
              "      <td>Biggin</td>\n",
              "      <td>2.5</td>\n",
              "      <td>3067</td>\n",
              "      <td>3</td>\n",
              "      <td>2.0</td>\n",
              "      <td>134.0</td>\n",
              "      <td>150.0</td>\n",
              "      <td>1900</td>\n",
              "      <td>Yarra</td>\n",
              "      <td>Northern Metropolitan</td>\n",
              "      <td>4019</td>\n",
              "      <td>20174</td>\n",
              "    </tr>\n",
              "    <tr>\n",
              "      <th>3</th>\n",
              "      <td>Abbotsford</td>\n",
              "      <td>3</td>\n",
              "      <td>850000</td>\n",
              "      <td>PI</td>\n",
              "      <td>Biggin</td>\n",
              "      <td>2.5</td>\n",
              "      <td>3067</td>\n",
              "      <td>3</td>\n",
              "      <td>2.0</td>\n",
              "      <td>94.0</td>\n",
              "      <td>120.0</td>\n",
              "      <td>1970</td>\n",
              "      <td>Yarra</td>\n",
              "      <td>Northern Metropolitan</td>\n",
              "      <td>4019</td>\n",
              "      <td>20174</td>\n",
              "    </tr>\n",
              "    <tr>\n",
              "      <th>4</th>\n",
              "      <td>Abbotsford</td>\n",
              "      <td>4</td>\n",
              "      <td>1600000</td>\n",
              "      <td>VB</td>\n",
              "      <td>Nelson</td>\n",
              "      <td>2.5</td>\n",
              "      <td>3067</td>\n",
              "      <td>3</td>\n",
              "      <td>1.0</td>\n",
              "      <td>120.0</td>\n",
              "      <td>142.0</td>\n",
              "      <td>2014</td>\n",
              "      <td>Yarra</td>\n",
              "      <td>Northern Metropolitan</td>\n",
              "      <td>4019</td>\n",
              "      <td>20164</td>\n",
              "    </tr>\n",
              "  </tbody>\n",
              "</table>\n",
              "</div>"
            ],
            "text/plain": [
              "       Suburb  Rooms  ...  Propertycount yr_month_sold\n",
              "0  Abbotsford      2  ...           4019         20163\n",
              "1  Abbotsford      2  ...           4019         20164\n",
              "2  Abbotsford      3  ...           4019         20174\n",
              "3  Abbotsford      3  ...           4019         20174\n",
              "4  Abbotsford      4  ...           4019         20164\n",
              "\n",
              "[5 rows x 16 columns]"
            ]
          },
          "metadata": {
            "tags": []
          },
          "execution_count": 4
        }
      ]
    },
    {
      "cell_type": "markdown",
      "metadata": {
        "id": "WSg9pf6LswAp",
        "colab_type": "text"
      },
      "source": [
        "# **Finding Coorelation**\n",
        "\n",
        "**Seaborn**\n",
        "\n",
        "*   Pairplot\n",
        "*   Heatmap\n"
      ]
    },
    {
      "cell_type": "markdown",
      "metadata": {
        "id": "v61dgphMNNCQ",
        "colab_type": "text"
      },
      "source": [
        "## Pairplot"
      ]
    },
    {
      "cell_type": "code",
      "metadata": {
        "id": "VUVZhAlPs9t4",
        "colab_type": "code",
        "colab": {}
      },
      "source": [
        "#sns.pairplot(dfX)"
      ],
      "execution_count": 5,
      "outputs": []
    },
    {
      "cell_type": "markdown",
      "metadata": {
        "id": "kQhy8-i461hl",
        "colab_type": "text"
      },
      "source": [
        "## Heatmap"
      ]
    },
    {
      "cell_type": "code",
      "metadata": {
        "id": "Mh1gmKiv63hI",
        "colab_type": "code",
        "colab": {
          "base_uri": "https://localhost:8080/",
          "height": 0
        },
        "outputId": "c2f16c48-9067-4f99-e9dc-fd9ea768649c"
      },
      "source": [
        "corr_mat = df.corr()\n",
        "top_corr_features = corr_mat.index\n",
        "plt.figure(figsize = (30, 30))\n",
        "\n",
        "g = sns.heatmap(df[top_corr_features].corr(), annot=True, center=0, linewidths=.5, cmap=\"YlGnBu\")"
      ],
      "execution_count": 6,
      "outputs": [
        {
          "output_type": "display_data",
          "data": {
            "image/png": "[encoded data removed]",
            "text/plain": [
              "<Figure size 2160x2160 with 2 Axes>"
            ]
          },
          "metadata": {
            "tags": [],
            "needs_background": "light"
          }
        }
      ]
    },
    {
      "cell_type": "markdown",
      "metadata": {
        "id": "q_rj9GX0IM4P",
        "colab_type": "text"
      },
      "source": [
        "## Dropping unwanted columns again"
      ]
    },
    {
      "cell_type": "code",
      "metadata": {
        "id": "XnNPQ3puIRBR",
        "colab_type": "code",
        "colab": {
          "base_uri": "https://localhost:8080/",
          "height": 204
        },
        "outputId": "188ade9e-b3a0-4561-e618-e631e1370278"
      },
      "source": [
        "# Creating two Dataframes; dfX = Independent Features; dfy = Dependent features\n",
        "# df = df.drop(columns=['yr_month_sold', 'Suburb', 'Method', 'SellerG', 'CouncilArea', 'Regionname'])\n",
        "\n",
        "dfX = df.drop(columns=['Price'])\n",
        "dfy = pd.DataFrame(data=df['Price'])\n",
        "\n",
        "dfX.head()\n",
        "dfy.head()\n"
      ],
      "execution_count": 7,
      "outputs": [
        {
          "output_type": "execute_result",
          "data": {
            "text/html": [
              "<div>\n",
              "<style scoped>\n",
              "    .dataframe tbody tr th:only-of-type {\n",
              "        vertical-align: middle;\n",
              "    }\n",
              "\n",
              "    .dataframe tbody tr th {\n",
              "        vertical-align: top;\n",
              "    }\n",
              "\n",
              "    .dataframe thead th {\n",
              "        text-align: right;\n",
              "    }\n",
              "</style>\n",
              "<table border=\"1\" class=\"dataframe\">\n",
              "  <thead>\n",
              "    <tr style=\"text-align: right;\">\n",
              "      <th></th>\n",
              "      <th>Price</th>\n",
              "    </tr>\n",
              "  </thead>\n",
              "  <tbody>\n",
              "    <tr>\n",
              "      <th>0</th>\n",
              "      <td>1480000</td>\n",
              "    </tr>\n",
              "    <tr>\n",
              "      <th>1</th>\n",
              "      <td>1035000</td>\n",
              "    </tr>\n",
              "    <tr>\n",
              "      <th>2</th>\n",
              "      <td>1465000</td>\n",
              "    </tr>\n",
              "    <tr>\n",
              "      <th>3</th>\n",
              "      <td>850000</td>\n",
              "    </tr>\n",
              "    <tr>\n",
              "      <th>4</th>\n",
              "      <td>1600000</td>\n",
              "    </tr>\n",
              "  </tbody>\n",
              "</table>\n",
              "</div>"
            ],
            "text/plain": [
              "     Price\n",
              "0  1480000\n",
              "1  1035000\n",
              "2  1465000\n",
              "3   850000\n",
              "4  1600000"
            ]
          },
          "metadata": {
            "tags": []
          },
          "execution_count": 7
        }
      ]
    },
    {
      "cell_type": "markdown",
      "metadata": {
        "id": "mvba4W-iI6IQ",
        "colab_type": "text"
      },
      "source": [
        "# **Replace categorical features with dummy variables**\n",
        "\n",
        "---\n",
        "\n",
        "**Obtain a list of Categorical features**\n",
        "\n",
        "We do this by checking the data type (or dtype) of each column. The object dtype indicates a column has text (there are other things it could theoretically be, but that's unimportant for our purposes). For this dataset, the columns with text indicate categorical variables\n",
        "\n"
      ]
    },
    {
      "cell_type": "code",
      "metadata": {
        "id": "42lrwTb9I-09",
        "colab_type": "code",
        "colab": {
          "base_uri": "https://localhost:8080/",
          "height": 53
        },
        "outputId": "06a7057d-0015-4abf-befb-36253fd39804"
      },
      "source": [
        "s = (dfX.dtypes == 'object')\n",
        "object_cols = list(s[s].index)\n",
        "\n",
        "print('Categorical Variables:')\n",
        "print(object_cols)\n",
        "\n",
        "# One Hot Encoding\n",
        "dfX = pd.get_dummies(dfX, drop_first=True)\n",
        "\n",
        "dfX.head()\n",
        "\n",
        "X = dfX.iloc[:,:]\n",
        "y = dfy.iloc[:,:]\n",
        "\n"
      ],
      "execution_count": 8,
      "outputs": [
        {
          "output_type": "stream",
          "text": [
            "Categorical Variables:\n",
            "['Suburb', 'Method', 'SellerG', 'CouncilArea', 'Regionname', 'yr_month_sold']\n"
          ],
          "name": "stdout"
        }
      ]
    },
    {
      "cell_type": "markdown",
      "metadata": {
        "id": "5pNxKmquHGSU",
        "colab_type": "text"
      },
      "source": [
        "# **Identify Important Features**"
      ]
    },
    {
      "cell_type": "code",
      "metadata": {
        "id": "P07WUej5HItq",
        "colab_type": "code",
        "colab": {
          "base_uri": "https://localhost:8080/",
          "height": 199
        },
        "outputId": "de9dbc15-af6b-4b2f-ec44-19cd3937398e"
      },
      "source": [
        "from sklearn.ensemble import ExtraTreesRegressor\n",
        "model = ExtraTreesRegressor()\n",
        "model.fit(X.values, y.values)"
      ],
      "execution_count": 9,
      "outputs": [
        {
          "output_type": "stream",
          "text": [
            "/usr/local/lib/python3.6/dist-packages/ipykernel_launcher.py:3: DataConversionWarning: A column-vector y was passed when a 1d array was expected. Please change the shape of y to (n_samples,), for example using ravel().\n",
            "  This is separate from the ipykernel package so we can avoid doing imports until\n"
          ],
          "name": "stderr"
        },
        {
          "output_type": "execute_result",
          "data": {
            "text/plain": [
              "ExtraTreesRegressor(bootstrap=False, ccp_alpha=0.0, criterion='mse',\n",
              "                    max_depth=None, max_features='auto', max_leaf_nodes=None,\n",
              "                    max_samples=None, min_impurity_decrease=0.0,\n",
              "                    min_impurity_split=None, min_samples_leaf=1,\n",
              "                    min_samples_split=2, min_weight_fraction_leaf=0.0,\n",
              "                    n_estimators=100, n_jobs=None, oob_score=False,\n",
              "                    random_state=None, verbose=0, warm_start=False)"
            ]
          },
          "metadata": {
            "tags": []
          },
          "execution_count": 9
        }
      ]
    },
    {
      "cell_type": "code",
      "metadata": {
        "id": "RnxUVgM2e4mq",
        "colab_type": "code",
        "colab": {
          "base_uri": "https://localhost:8080/",
          "height": 1000
        },
        "outputId": "e183b086-220f-4594-8d24-f59d7fb682a2"
      },
      "source": [
        "print(model.feature_importances_)"
      ],
      "execution_count": 10,
      "outputs": [
        {
          "output_type": "stream",
          "text": [
            "[1.88359999e-01 6.12701451e-02 1.15459063e-02 4.88122182e-02\n",
            " 8.75979859e-02 5.81286376e-02 3.59744815e-02 4.05720943e-02\n",
            " 7.52914588e-03 1.13666282e-03 6.78014730e-05 2.96222481e-06\n",
            " 3.80554405e-03 3.77653472e-05 7.05123721e-04 2.00198391e-04\n",
            " 4.28723248e-06 4.44818561e-05 3.19290532e-07 2.89194667e-03\n",
            " 1.35812874e-04 5.13277640e-04 8.29232324e-05 3.05431005e-05\n",
            " 7.31626219e-06 9.41340593e-08 1.53594936e-04 1.27098497e-07\n",
            " 2.72677922e-05 1.32763554e-03 1.79875506e-03 3.76568779e-06\n",
            " 4.04576389e-06 2.63616313e-07 2.91866267e-07 2.18850101e-04\n",
            " 2.46466867e-05 1.67911035e-04 9.98314096e-04 1.30810086e-05\n",
            " 1.23787602e-04 2.79291316e-04 2.66388705e-05 2.31519704e-05\n",
            " 1.24308128e-04 6.63348942e-05 9.45598108e-04 4.96043789e-05\n",
            " 7.66200739e-06 8.57788760e-03 4.80473605e-04 5.93632454e-05\n",
            " 4.33771677e-07 1.01168722e-05 3.51315644e-04 1.75902564e-04\n",
            " 2.04614343e-04 1.86130744e-04 1.67733371e-07 3.32656037e-05\n",
            " 3.59221547e-05 1.41589095e-07 3.03545355e-07 5.06437704e-04\n",
            " 2.82505854e-05 3.33408753e-06 1.53703549e-03 1.50784708e-06\n",
            " 1.90752249e-03 3.06370879e-04 8.39913886e-04 1.15016136e-04\n",
            " 5.33021701e-06 1.02667542e-05 2.07979219e-05 7.46115056e-05\n",
            " 2.47792237e-05 2.96262935e-04 1.14635486e-04 4.47181795e-05\n",
            " 2.52663037e-06 4.32817327e-06 1.65897269e-04 6.64116560e-07\n",
            " 5.21551310e-06 8.06915428e-05 8.72576329e-06 1.33765880e-04\n",
            " 4.97929722e-04 2.07453010e-04 1.41602210e-04 6.31741683e-06\n",
            " 1.69024128e-05 1.58807142e-06 1.60951558e-06 1.05112801e-04\n",
            " 3.70349620e-05 6.14783003e-07 1.28453533e-05 9.43014421e-08\n",
            " 1.46619169e-05 1.55432875e-05 1.60978313e-05 2.44377542e-06\n",
            " 2.20247848e-06 2.40147430e-06 1.40643601e-06 1.98555113e-06\n",
            " 7.59356087e-07 1.11450275e-05 9.61995589e-07 1.24979699e-04\n",
            " 1.90353512e-04 1.27195642e-04 9.20614493e-06 4.19679134e-04\n",
            " 2.66004241e-03 1.65832828e-03 4.58391364e-05 3.66736485e-04\n",
            " 3.66198925e-05 1.36785723e-05 3.75431595e-04 1.42823798e-07\n",
            " 6.06261138e-07 3.33442791e-05 9.02385191e-04 1.42709471e-04\n",
            " 1.76122505e-04 1.39827024e-04 9.63370259e-05 1.92089468e-05\n",
            " 1.22083419e-03 5.39961121e-04 1.13111812e-04 2.07164167e-04\n",
            " 3.16383291e-05 1.24119143e-05 1.39001731e-06 1.98038297e-04\n",
            " 2.84197413e-05 2.11093452e-06 1.69566882e-05 4.86584355e-05\n",
            " 1.12525058e-03 8.40085134e-04 9.21714708e-05 3.54300246e-05\n",
            " 6.71346815e-05 2.47943988e-05 3.40656134e-05 4.51019894e-06\n",
            " 2.81336428e-03 6.71771014e-05 5.30763838e-07 2.85337420e-03\n",
            " 1.53497642e-03 7.03823973e-08 7.10258551e-05 2.95186894e-04\n",
            " 1.80729807e-04 5.20425376e-04 1.75988307e-04 7.77584384e-06\n",
            " 8.81928137e-06 7.21671512e-05 1.03517028e-05 7.53083765e-07\n",
            " 1.10901448e-03 1.87102509e-03 1.18447944e-05 2.69516386e-05\n",
            " 4.95228253e-05 2.31400844e-06 1.19267174e-04 2.02389330e-07\n",
            " 1.10570537e-05 9.78057558e-05 2.37133296e-03 6.50188780e-04\n",
            " 6.24196877e-06 1.24676147e-06 2.56508712e-06 1.72261234e-05\n",
            " 3.24638884e-05 6.81932769e-06 4.21060781e-05 6.77924763e-07\n",
            " 8.79853963e-06 1.93568929e-05 1.18379538e-05 1.40114449e-04\n",
            " 2.23591329e-03 1.06388889e-03 7.05843375e-04 3.27327917e-05\n",
            " 4.34890906e-05 3.96365111e-05 2.55950098e-06 5.86439770e-06\n",
            " 5.33175158e-06 7.01509093e-05 6.64466199e-07 3.79445873e-03\n",
            " 2.70885250e-05 2.65198803e-05 3.21831944e-08 2.44062897e-03\n",
            " 2.66786048e-05 2.44612764e-07 3.70174938e-04 1.47633136e-04\n",
            " 1.93768831e-06 1.90023334e-04 3.33786416e-07 6.22526899e-04\n",
            " 4.96975153e-04 1.16868584e-04 1.28145323e-06 1.25544598e-05\n",
            " 4.36418083e-04 5.39036958e-04 6.60892026e-06 3.49073700e-04\n",
            " 5.40403972e-06 2.44012027e-03 3.42885013e-06 1.79351069e-05\n",
            " 1.56512476e-04 1.25120707e-04 5.79596798e-05 5.09994035e-05\n",
            " 1.08984152e-07 2.66158833e-04 7.54037399e-06 4.78539461e-04\n",
            " 1.07728832e-03 1.76416396e-04 1.11875116e-07 1.14137822e-05\n",
            " 6.15862752e-04 6.26634235e-04 9.15008146e-04 8.24654585e-05\n",
            " 3.57774507e-04 4.21094578e-04 8.29734590e-07 6.25265711e-05\n",
            " 1.80281769e-05 1.03202743e-05 7.15750760e-06 8.94536095e-07\n",
            " 1.77670305e-04 1.26281093e-05 6.93836394e-06 4.45048216e-08\n",
            " 4.29616260e-04 4.59362064e-06 2.18518529e-06 1.63049128e-05\n",
            " 1.20081967e-04 1.50859695e-04 4.12543756e-05 2.50876603e-08\n",
            " 4.60180861e-05 5.63756153e-04 9.66975835e-06 7.72280669e-04\n",
            " 2.05149413e-04 5.78540892e-05 6.64407738e-06 1.21482459e-06\n",
            " 1.31489231e-05 8.02798382e-06 1.06039415e-03 4.13922231e-04\n",
            " 5.03699010e-06 4.35139492e-06 1.39095984e-04 2.37071393e-05\n",
            " 8.36798049e-05 7.32864293e-04 9.09167843e-07 1.98179936e-06\n",
            " 4.90355576e-07 1.12107028e-05 2.08094672e-04 1.63178747e-04\n",
            " 1.27613758e-05 6.16998915e-06 4.69483564e-04 4.04285273e-03\n",
            " 8.17545159e-05 1.25147873e-06 6.11396704e-06 3.78346200e-07\n",
            " 1.52318199e-05 2.85700986e-05 6.99893975e-05 1.51742875e-06\n",
            " 7.25286551e-05 3.22598360e-05 3.91260795e-05 4.05853645e-06\n",
            " 4.45209133e-05 2.21653063e-06 8.30328530e-05 1.28500049e-04\n",
            " 9.43223744e-05 6.51549857e-06 3.55555190e-05 3.30126942e-08\n",
            " 3.88671909e-07 2.20181086e-03 4.78843155e-05 1.46439335e-04\n",
            " 1.65574210e-06 3.67943575e-07 2.24970021e-06 3.53912105e-05\n",
            " 4.83640611e-08 2.63690855e-04 8.90886910e-03 1.94628619e-04\n",
            " 2.17302411e-03 3.25208677e-03 4.11072175e-05 2.38493893e-03\n",
            " 2.02101958e-05 1.05558966e-04 6.08554992e-06 1.73032978e-06\n",
            " 2.22600490e-06 2.18922082e-07 7.84294119e-08 2.45233087e-05\n",
            " 1.85407641e-07 4.04900547e-06 1.15950957e-04 1.04741569e-06\n",
            " 4.62061541e-05 1.11670148e-03 3.64668643e-06 4.48494410e-05\n",
            " 5.69611453e-05 4.63458022e-05 1.20961949e-06 8.99280599e-08\n",
            " 1.19663865e-03 1.08298032e-04 5.05873632e-07 1.91474656e-07\n",
            " 3.04176387e-05 4.36386451e-04 6.10507643e-05 9.02423315e-06\n",
            " 7.70825646e-05 1.53626285e-03 1.75698263e-07 2.30509014e-08\n",
            " 9.63899248e-05 3.07782839e-08 1.89316155e-03 2.47429062e-08\n",
            " 1.10843761e-05 2.31065148e-03 2.80719267e-04 1.66515024e-06\n",
            " 2.62352859e-04 4.68162464e-06 9.53615887e-05 3.42446526e-04\n",
            " 2.90823050e-05 3.89652767e-06 1.11298099e-03 1.58626280e-06\n",
            " 1.32211177e-06 4.38200179e-06 6.56837985e-05 5.41262477e-07\n",
            " 2.60269863e-06 1.58860148e-06 5.55243300e-06 1.15836224e-05\n",
            " 7.25184480e-04 2.50403369e-05 7.60170053e-05 1.91349246e-05\n",
            " 6.79131783e-05 1.80689208e-06 1.04093035e-06 9.95304117e-06\n",
            " 4.23892315e-05 4.59639713e-05 4.30048560e-06 1.16624960e-04\n",
            " 7.80073602e-06 4.50268796e-06 1.16248740e-03 1.09458135e-06\n",
            " 7.04484794e-06 1.47708576e-04 7.42115253e-07 1.18377068e-05\n",
            " 1.47099708e-06 3.69707361e-06 6.04479501e-06 3.34066112e-04\n",
            " 2.42079058e-07 3.74014346e-07 2.03462054e-03 2.93478386e-05\n",
            " 1.00827244e-04 6.20842241e-03 7.20229872e-06 2.16210476e-04\n",
            " 1.07969729e-04 4.61737978e-05 5.19812442e-07 5.84214088e-04\n",
            " 6.34510757e-06 1.85801463e-07 2.68916354e-04 2.04229935e-05\n",
            " 4.52488820e-06 9.54978369e-06 5.70203651e-05 1.38362121e-05\n",
            " 6.06746801e-06 4.43793955e-04 2.40643098e-05 8.26675840e-03\n",
            " 3.94835315e-08 2.52877818e-07 1.45272526e-06 2.51091009e-06\n",
            " 2.91338166e-03 1.56111346e-07 2.45304575e-07 2.43894258e-04\n",
            " 3.34512080e-07 1.62426036e-06 9.25687582e-05 1.06533071e-04\n",
            " 9.10634783e-05 7.48514205e-06 2.09818780e-07 5.11553480e-07\n",
            " 6.01222905e-05 1.20118565e-06 7.27311504e-08 1.59635203e-03\n",
            " 1.15277895e-04 1.62803589e-05 5.12149436e-07 1.31567511e-06\n",
            " 4.50576497e-06 3.47771128e-05 1.08512893e-06 7.47695622e-06\n",
            " 1.47254833e-02 1.81937503e-05 1.05840386e-05 6.34245392e-05\n",
            " 1.56794843e-04 1.66052524e-03 1.66377250e-05 1.95336493e-07\n",
            " 2.64616496e-07 1.38305015e-04 4.37436043e-08 5.62855779e-04\n",
            " 8.86070801e-07 3.70804691e-07 8.08719704e-07 2.75146890e-05\n",
            " 1.52910681e-06 3.80276430e-04 3.17663156e-06 2.86214717e-06\n",
            " 2.08564542e-03 1.56597572e-05 1.93219971e-07 2.21080586e-07\n",
            " 1.31632300e-04 5.24371541e-04 7.17132907e-04 2.48313547e-06\n",
            " 5.37622047e-05 4.65790680e-05 6.54286058e-08 1.94665957e-05\n",
            " 7.04975738e-06 1.54661710e-08 3.95422258e-06 9.95791472e-07\n",
            " 3.61367162e-07 2.89146871e-07 1.99174420e-05 9.74402031e-06\n",
            " 4.63146194e-06 7.35748001e-05 2.45862821e-07 1.27125770e-04\n",
            " 5.50953204e-05 3.15171908e-08 4.28200654e-05 2.55811529e-07\n",
            " 7.22547621e-07 1.03391831e-04 2.70370331e-07 1.88224386e-07\n",
            " 1.20901010e-07 1.19798602e-04 7.14759805e-06 4.54916146e-06\n",
            " 5.59913260e-07 2.24846389e-03 3.05557216e-04 2.41830704e-04\n",
            " 1.59343070e-05 8.84449305e-04 5.52255525e-06 1.00875202e-06\n",
            " 1.39862145e-05 6.91431142e-05 5.58858007e-07 5.70484032e-07\n",
            " 2.53288051e-06 2.62490227e-04 1.44975579e-07 7.65507033e-07\n",
            " 4.10295648e-04 8.56895999e-06 5.55091232e-07 1.50295380e-05\n",
            " 4.88456142e-05 1.57669360e-06 1.14887673e-05 2.46286253e-06\n",
            " 4.91647686e-06 1.08006076e-05 2.83421793e-06 8.48225908e-07\n",
            " 3.09169881e-03 3.85531806e-06 2.08019115e-04 4.41815059e-04\n",
            " 7.02952402e-06 1.31640659e-07 4.75997861e-07 9.19515750e-06\n",
            " 7.19904066e-05 2.37158539e-07 4.88731809e-05 3.10374227e-05\n",
            " 2.52160938e-06 6.63393142e-06 1.49421524e-05 6.58964794e-06\n",
            " 5.22461060e-04 1.63217582e-08 2.29915135e-06 1.00103521e-06\n",
            " 1.37789548e-04 2.80051502e-05 1.34585360e-05 2.70946432e-05\n",
            " 2.57081930e-05 1.27922472e-05 1.07754790e-05 7.79249271e-06\n",
            " 1.01462148e-06 7.76291839e-07 2.85721001e-05 3.66970813e-06\n",
            " 6.70678253e-04 3.42052176e-05 1.90960773e-06 6.46049109e-08\n",
            " 1.20074614e-03 1.88752365e-06 9.10205358e-05 3.99605870e-07\n",
            " 2.25611006e-06 2.18342951e-03 7.03074449e-08 6.99408260e-06\n",
            " 5.50462978e-08 1.74113938e-05 1.02935616e-07 2.42044775e-06\n",
            " 9.20690430e-06 1.70104921e-03 5.04192117e-03 2.91020806e-03\n",
            " 4.17895356e-06 3.36789535e-04 8.16111031e-04 5.73711125e-05\n",
            " 1.09893345e-02 4.71169707e-05 5.59634540e-04 8.69505769e-04\n",
            " 1.93615165e-03 7.98206548e-05 3.02242111e-06 3.02412113e-03\n",
            " 1.52220335e-03 7.01585896e-05 1.14080773e-03 4.82511360e-04\n",
            " 5.54509815e-03 1.24393023e-03 8.79355439e-08 3.52342624e-03\n",
            " 6.08712935e-05 1.42741478e-03 4.40332012e-03 2.57082201e-06\n",
            " 2.13017664e-03 1.06017242e-04 5.45916988e-04 1.02903157e-02\n",
            " 6.84141648e-06 1.91729932e-05 5.18872083e-03 3.45908812e-05\n",
            " 3.44662316e-04 1.45613724e-01 3.56884223e-03 1.34137999e-04\n",
            " 3.33925419e-03 3.47052631e-03 2.40062969e-03 3.95796284e-03\n",
            " 2.76714483e-03 3.04439804e-03 2.18410364e-03 2.60807190e-03\n",
            " 2.95262628e-03 2.12731440e-03 9.38875444e-04 5.43499507e-04\n",
            " 1.81002700e-03 3.17064402e-03 4.31631239e-03 2.96574331e-03\n",
            " 5.65626870e-03 2.93494021e-03 2.03758276e-03 2.73562950e-03\n",
            " 1.63083925e-03]\n"
          ],
          "name": "stdout"
        }
      ]
    },
    {
      "cell_type": "markdown",
      "metadata": {
        "id": "7nvhvEu0fiLQ",
        "colab_type": "text"
      },
      "source": [
        "**Plot graph of feature importance**\n"
      ]
    },
    {
      "cell_type": "code",
      "metadata": {
        "id": "6Js3XaaAfqHR",
        "colab_type": "code",
        "colab": {
          "base_uri": "https://localhost:8080/",
          "height": 700
        },
        "outputId": "1c047c6b-bab2-464e-df51-e787e5f5e0ad"
      },
      "source": [
        "feat_importances = pd.Series(model.feature_importances_, index = X.columns)\n",
        "plt.figure(figsize=(9, 12))\n",
        "feat_importances.nlargest(55).plot(kind='barh')\n",
        "plt.show()"
      ],
      "execution_count": 11,
      "outputs": [
        {
          "output_type": "display_data",
          "data": {
            "image/png": "[encoded data removed]",
            "text/plain": [
              "<Figure size 648x864 with 1 Axes>"
            ]
          },
          "metadata": {
            "tags": [],
            "needs_background": "light"
          }
        }
      ]
    },
    {
      "cell_type": "markdown",
      "metadata": {
        "id": "xDo9WJmiq-Pp",
        "colab_type": "text"
      },
      "source": [
        "# **Splitting the Data into Training and Test set**\n"
      ]
    },
    {
      "cell_type": "code",
      "metadata": {
        "id": "DmFfgfuF9EXF",
        "colab_type": "code",
        "colab": {}
      },
      "source": [
        "from sklearn.model_selection import train_test_split\n",
        "X_train, X_test, y_train, y_test = train_test_split(X.values, y.values, test_size=0.2)"
      ],
      "execution_count": 12,
      "outputs": []
    },
    {
      "cell_type": "markdown",
      "metadata": {
        "id": "oLtHxbV2OM62",
        "colab_type": "text"
      },
      "source": [
        "# **Model Selection**\n",
        "\n",
        "---\n",
        "\n",
        "**Try multiple regression models to find one best fit model.**\n",
        "\n",
        "> DecisionTree Regressor\n",
        "\n",
        "> Random Forest\n",
        "\n",
        "> XGBoost\n",
        "\n"
      ]
    },
    {
      "cell_type": "code",
      "metadata": {
        "id": "YvPt9S3OFeOk",
        "colab_type": "code",
        "colab": {
          "base_uri": "https://localhost:8080/",
          "height": 125
        },
        "outputId": "33d8ac34-43ab-4cc4-e9df-1b7574690599"
      },
      "source": [
        "# Training DecisionTree Regressor\n",
        "from sklearn.tree import DecisionTreeRegressor\n",
        "mdl_decision_tree_reg = DecisionTreeRegressor()\n",
        "mdl_decision_tree_reg.fit(X_train, y_train)\n"
      ],
      "execution_count": 13,
      "outputs": [
        {
          "output_type": "execute_result",
          "data": {
            "text/plain": [
              "DecisionTreeRegressor(ccp_alpha=0.0, criterion='mse', max_depth=None,\n",
              "                      max_features=None, max_leaf_nodes=None,\n",
              "                      min_impurity_decrease=0.0, min_impurity_split=None,\n",
              "                      min_samples_leaf=1, min_samples_split=2,\n",
              "                      min_weight_fraction_leaf=0.0, presort='deprecated',\n",
              "                      random_state=None, splitter='best')"
            ]
          },
          "metadata": {
            "tags": []
          },
          "execution_count": 13
        }
      ]
    },
    {
      "cell_type": "code",
      "metadata": {
        "id": "LBCOnl6vFlcH",
        "colab_type": "code",
        "colab": {
          "base_uri": "https://localhost:8080/",
          "height": 181
        },
        "outputId": "0fc7f268-8b6d-4ca4-e0dc-b07d0a813089"
      },
      "source": [
        "# Training RandomForest Regressor\n",
        "from sklearn.ensemble import RandomForestRegressor\n",
        "from sklearn.model_selection import RandomizedSearchCV\n",
        "\n",
        "# Hyperparameters to identify best fit value for RandomForest\n",
        "hyper_params = {\n",
        "    'n_estimators' : [100, 200, 300, 500],\n",
        "    'max_features': ['auto', 'sqrt'],\n",
        "    'max_depth' : [5, 10, 15, 20, 25, 30],\n",
        "    'min_samples_split' : [5, 15, 25, 50],\n",
        "    'min_samples_leaf' : [1, 2, 5, 10]\n",
        "}\n",
        "\n",
        "# mdl_select = RandomizedSearchCV(estimator=mdl_rf, param_distributions=hyper_params, scoring='neg_mean_squared_error', cv=5, verbose=2)\n",
        "# mdl_select.fit(X_train, y_train)\n",
        "\n",
        "\n",
        "# Use the hyperparameters based on the result after running the above 2 statements\n",
        "mdl_random_forest_reg = RandomForestRegressor(max_depth=25, max_features='auto', min_samples_leaf=10, min_samples_split=25, n_estimators=100)\n",
        "mdl_random_forest_reg.fit(X_train, y_train)\n"
      ],
      "execution_count": 14,
      "outputs": [
        {
          "output_type": "stream",
          "text": [
            "/usr/local/lib/python3.6/dist-packages/ipykernel_launcher.py:20: DataConversionWarning: A column-vector y was passed when a 1d array was expected. Please change the shape of y to (n_samples,), for example using ravel().\n"
          ],
          "name": "stderr"
        },
        {
          "output_type": "execute_result",
          "data": {
            "text/plain": [
              "RandomForestRegressor(bootstrap=True, ccp_alpha=0.0, criterion='mse',\n",
              "                      max_depth=25, max_features='auto', max_leaf_nodes=None,\n",
              "                      max_samples=None, min_impurity_decrease=0.0,\n",
              "                      min_impurity_split=None, min_samples_leaf=10,\n",
              "                      min_samples_split=25, min_weight_fraction_leaf=0.0,\n",
              "                      n_estimators=100, n_jobs=None, oob_score=False,\n",
              "                      random_state=None, verbose=0, warm_start=False)"
            ]
          },
          "metadata": {
            "tags": []
          },
          "execution_count": 14
        }
      ]
    },
    {
      "cell_type": "code",
      "metadata": {
        "id": "gp4pIyY9GYbo",
        "colab_type": "code",
        "colab": {
          "base_uri": "https://localhost:8080/",
          "height": 161
        },
        "outputId": "974438e2-1a4f-4281-edce-60b028a8f4ba"
      },
      "source": [
        "# Training XGBoost Regressor\n",
        "from xgboost import XGBRegressor\n",
        "\n",
        "mdl_xgboost = XGBRegressor(n_estimators=500, learning_rate=0.05)\n",
        "mdl_xgboost.fit(X_train, y_train)\n",
        "\n",
        "# Huma readable description of a model\n",
        "# model.dump_model('dump.raw.txt')"
      ],
      "execution_count": 15,
      "outputs": [
        {
          "output_type": "stream",
          "text": [
            "[16:30:04] WARNING: /workspace/src/objective/regression_obj.cu:152: reg:linear is now deprecated in favor of reg:squarederror.\n"
          ],
          "name": "stdout"
        },
        {
          "output_type": "execute_result",
          "data": {
            "text/plain": [
              "XGBRegressor(base_score=0.5, booster='gbtree', colsample_bylevel=1,\n",
              "             colsample_bynode=1, colsample_bytree=1, gamma=0,\n",
              "             importance_type='gain', learning_rate=0.05, max_delta_step=0,\n",
              "             max_depth=3, min_child_weight=1, missing=None, n_estimators=500,\n",
              "             n_jobs=1, nthread=None, objective='reg:linear', random_state=0,\n",
              "             reg_alpha=0, reg_lambda=1, scale_pos_weight=1, seed=None,\n",
              "             silent=None, subsample=1, verbosity=1)"
            ]
          },
          "metadata": {
            "tags": []
          },
          "execution_count": 15
        }
      ]
    },
    {
      "cell_type": "markdown",
      "metadata": {
        "id": "7ZjB-ZRNIshE",
        "colab_type": "text"
      },
      "source": [
        "# **Model Prediction & Evaluation**\n",
        "\n",
        "---\n",
        "\n",
        "**In this section we will measure each model for-**\n",
        "\n",
        "*   R-Squared\n",
        "*   MAE (Mean Absolute Error)\n"
      ]
    },
    {
      "cell_type": "code",
      "metadata": {
        "id": "7fx-uXSMJWnf",
        "colab_type": "code",
        "colab": {
          "base_uri": "https://localhost:8080/",
          "height": 35
        },
        "outputId": "657926ca-67a2-4dd2-aa9c-01a0a133b466"
      },
      "source": [
        "# DecisionTree Model Eval\n",
        "\n",
        "# Prediction\n",
        "y_pred = mdl_decision_tree_reg.predict(X_test)\n",
        "\n",
        "# Evaluation\n",
        "from sklearn.metrics import r2_score, mean_absolute_error, mean_squared_error\n",
        "print(\"r2_score\", r2_score(y_test,y_pred) * 100)"
      ],
      "execution_count": 16,
      "outputs": [
        {
          "output_type": "stream",
          "text": [
            "r2_score 60.52282052814497\n"
          ],
          "name": "stdout"
        }
      ]
    },
    {
      "cell_type": "code",
      "metadata": {
        "id": "lZWzcUSyJZ_5",
        "colab_type": "code",
        "colab": {
          "base_uri": "https://localhost:8080/",
          "height": 35
        },
        "outputId": "cb468840-1cfa-4803-eb57-c147e9cd7ba4"
      },
      "source": [
        "# RandomForest Model Eval\n",
        "\n",
        "# Prediction\n",
        "y_pred = mdl_random_forest_reg.predict(X_test)\n",
        "\n",
        "# Evaluation\n",
        "from sklearn.metrics import r2_score\n",
        "print(\"r2_score\", r2_score(y_test,y_pred) * 100)\n"
      ],
      "execution_count": 17,
      "outputs": [
        {
          "output_type": "stream",
          "text": [
            "r2_score 74.66442039092355\n"
          ],
          "name": "stdout"
        }
      ]
    },
    {
      "cell_type": "code",
      "metadata": {
        "id": "aATcTqTnJcsy",
        "colab_type": "code",
        "colab": {
          "base_uri": "https://localhost:8080/",
          "height": 35
        },
        "outputId": "f7379e90-00b6-460c-f3d6-aef605a21d86"
      },
      "source": [
        "# XGBoost Model Eval\n",
        "\n",
        "# Prediction\n",
        "y_pred = mdl_xgboost.predict(X_test)\n",
        "\n",
        "# Evaluation\n",
        "from sklearn.metrics import r2_score\n",
        "print(\"r2_score\", r2_score(y_test,y_pred) * 100)"
      ],
      "execution_count": 18,
      "outputs": [
        {
          "output_type": "stream",
          "text": [
            "r2_score 77.59529333086728\n"
          ],
          "name": "stdout"
        }
      ]
    },
    {
      "cell_type": "markdown",
      "metadata": {
        "id": "4VtF-aCPW7IG",
        "colab_type": "text"
      },
      "source": [
        "# **Export Model to Pickle File**"
      ]
    },
    {
      "cell_type": "code",
      "metadata": {
        "id": "0TGLkm_rW_dz",
        "colab_type": "code",
        "colab": {}
      },
      "source": [
        "import pickle\n",
        "file = open('mdl_xgboost.pkl', 'wb')\n",
        "\n",
        "# Uncomment the below line and replace 'my_model' w/ your model variable and run the block.\n",
        "pickle.dump(mdl_xgboost, file)"
      ],
      "execution_count": 19,
      "outputs": []
    }
  ]
}